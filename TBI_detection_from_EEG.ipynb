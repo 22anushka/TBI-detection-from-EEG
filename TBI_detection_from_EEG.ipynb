{
  "cells": [
    {
      "cell_type": "markdown",
      "metadata": {
        "id": "view-in-github",
        "colab_type": "text"
      },
      "source": [
        "<a href=\"https://colab.research.google.com/github/22anushka/TBI-detection-from-EEG/blob/main/TBI_detection_from_EEG.ipynb\" target=\"_parent\"><img src=\"https://colab.research.google.com/assets/colab-badge.svg\" alt=\"Open In Colab\"/></a>"
      ]
    },
    {
      "cell_type": "markdown",
      "source": [
        "#Traumatic Brain Injury Detection from EEG signals"
      ],
      "metadata": {
        "id": "UvUchr3sTPRU"
      }
    },
    {
      "cell_type": "markdown",
      "source": [
        "```\n",
        "@authors: Nausheen N, Anushka S, Mariam K, Aditya J\n",
        "```"
      ],
      "metadata": {
        "id": "vqkZkYuoTjGm"
      }
    },
    {
      "cell_type": "code",
      "execution_count": null,
      "metadata": {
        "id": "zeVr-I-pd2yZ"
      },
      "outputs": [],
      "source": [
        "from google.colab import drive"
      ]
    },
    {
      "cell_type": "code",
      "execution_count": null,
      "metadata": {
        "id": "Y_ZivIdhhgKH"
      },
      "outputs": [],
      "source": [
        "import scipy"
      ]
    },
    {
      "cell_type": "code",
      "execution_count": null,
      "metadata": {
        "id": "-9GhADWKg_Ms"
      },
      "outputs": [],
      "source": [
        "!pip install pymatreader"
      ]
    },
    {
      "cell_type": "code",
      "execution_count": null,
      "metadata": {
        "id": "1i8IXx_xVO3f"
      },
      "outputs": [],
      "source": [
        "!pip install  mne"
      ]
    },
    {
      "cell_type": "markdown",
      "metadata": {
        "id": "YkSpq1IB5NdU"
      },
      "source": [
        "# Load Dataset"
      ]
    },
    {
      "cell_type": "code",
      "execution_count": null,
      "metadata": {
        "id": "vTBVciNQVVd_"
      },
      "outputs": [],
      "source": [
        "import mne     # MNE-Python used to visualize and analyse EEG signals\n",
        "import numpy as np\n",
        "eegs = list() # Initializing an empty list called eegs\n",
        "\n",
        "# test\n",
        "# Y= np.array([[1,2,3],[3,4,5]])\n",
        "# eegs.append(Y)\n",
        "# print(eegs)\n",
        "# eeg = np.array(eegs)\n",
        "\n",
        "# print(eeg[0][0][0])"
      ]
    },
    {
      "cell_type": "code",
      "execution_count": null,
      "metadata": {
        "id": "aEkXc31LXJd_",
        "colab": {
          "base_uri": "https://localhost:8080/"
        },
        "outputId": "bbce2f79-9888-42e2-be07-cc1894f16500"
      },
      "outputs": [
        {
          "output_type": "stream",
          "name": "stdout",
          "text": [
            "Drive already mounted at /content/drive; to attempt to forcibly remount, call drive.mount(\"/content/drive\", force_remount=True).\n"
          ]
        }
      ],
      "source": [
        "from google.colab import drive\n",
        "drive.mount('/content/drive')"
      ]
    },
    {
      "cell_type": "code",
      "execution_count": null,
      "metadata": {
        "id": "ZRE1E7Ox15g9",
        "colab": {
          "base_uri": "https://localhost:8080/"
        },
        "outputId": "d28860cf-59ac-4cd7-9b3a-ac4fba9fb901"
      },
      "outputs": [
        {
          "output_type": "stream",
          "name": "stdout",
          "text": [
            "/content/drive/MyDrive/nnfl_assignment/nnfl_data/sub-001_ses-01_task-VisualWorkingMemory_eeg.set\n",
            "Reading /content/drive/MyDrive/nnfl_assignment/nnfl_data/sub-001_ses-01_task-VisualWorkingMemory_eeg.fdt\n",
            "Reading 0 ... 697174  =      0.000 ...  1394.348 secs...\n"
          ]
        },
        {
          "output_type": "stream",
          "name": "stderr",
          "text": [
            "<ipython-input-95-1d56d2f5bf35>:10: RuntimeWarning: The data contains 'boundary' events, indicating data discontinuities. Be cautious of filtering and epoching around these events.\n",
            "  data = mne.io.read_raw_eeglab(file) # Reading the eeg data from the file\n"
          ]
        },
        {
          "output_type": "stream",
          "name": "stdout",
          "text": [
            "697175\n",
            "/content/drive/MyDrive/nnfl_assignment/nnfl_data/sub-002_ses-01_task-VisualWorkingMemory_eeg.set\n",
            "Reading /content/drive/MyDrive/nnfl_assignment/nnfl_data/sub-002_ses-01_task-VisualWorkingMemory_eeg.fdt\n",
            "Reading 0 ... 766849  =      0.000 ...  1533.698 secs...\n"
          ]
        },
        {
          "output_type": "stream",
          "name": "stderr",
          "text": [
            "<ipython-input-95-1d56d2f5bf35>:10: RuntimeWarning: The data contains 'boundary' events, indicating data discontinuities. Be cautious of filtering and epoching around these events.\n",
            "  data = mne.io.read_raw_eeglab(file) # Reading the eeg data from the file\n"
          ]
        },
        {
          "output_type": "stream",
          "name": "stdout",
          "text": [
            "766850\n",
            "/content/drive/MyDrive/nnfl_assignment/nnfl_data/sub-003_ses-01_task-VisualWorkingMemory_eeg.set\n",
            "Reading /content/drive/MyDrive/nnfl_assignment/nnfl_data/sub-003_ses-01_task-VisualWorkingMemory_eeg.fdt\n",
            "Reading 0 ... 856724  =      0.000 ...  1713.448 secs...\n"
          ]
        },
        {
          "output_type": "stream",
          "name": "stderr",
          "text": [
            "<ipython-input-95-1d56d2f5bf35>:10: RuntimeWarning: The data contains 'boundary' events, indicating data discontinuities. Be cautious of filtering and epoching around these events.\n",
            "  data = mne.io.read_raw_eeglab(file) # Reading the eeg data from the file\n"
          ]
        },
        {
          "output_type": "stream",
          "name": "stdout",
          "text": [
            "856725\n",
            "/content/drive/MyDrive/nnfl_assignment/nnfl_data/sub-004_ses-01_task-VisualWorkingMemory_eeg.set\n",
            "Reading /content/drive/MyDrive/nnfl_assignment/nnfl_data/sub-004_ses-01_task-VisualWorkingMemory_eeg.fdt\n",
            "Reading 0 ... 724399  =      0.000 ...  1448.798 secs...\n"
          ]
        },
        {
          "output_type": "stream",
          "name": "stderr",
          "text": [
            "<ipython-input-95-1d56d2f5bf35>:10: RuntimeWarning: The data contains 'boundary' events, indicating data discontinuities. Be cautious of filtering and epoching around these events.\n",
            "  data = mne.io.read_raw_eeglab(file) # Reading the eeg data from the file\n"
          ]
        },
        {
          "output_type": "stream",
          "name": "stdout",
          "text": [
            "724400\n",
            "/content/drive/MyDrive/nnfl_assignment/nnfl_data/sub-005_ses-01_task-VisualWorkingMemory_eeg.set\n",
            "Reading /content/drive/MyDrive/nnfl_assignment/nnfl_data/sub-005_ses-01_task-VisualWorkingMemory_eeg.fdt\n",
            "Reading 0 ... 683049  =      0.000 ...  1366.098 secs...\n"
          ]
        },
        {
          "output_type": "stream",
          "name": "stderr",
          "text": [
            "<ipython-input-95-1d56d2f5bf35>:10: RuntimeWarning: The data contains 'boundary' events, indicating data discontinuities. Be cautious of filtering and epoching around these events.\n",
            "  data = mne.io.read_raw_eeglab(file) # Reading the eeg data from the file\n"
          ]
        },
        {
          "output_type": "stream",
          "name": "stdout",
          "text": [
            "683050\n",
            "/content/drive/MyDrive/nnfl_assignment/nnfl_data/sub-006_ses-01_task-VisualWorkingMemory_eeg.set\n",
            "Reading /content/drive/MyDrive/nnfl_assignment/nnfl_data/sub-006_ses-01_task-VisualWorkingMemory_eeg.fdt\n",
            "Reading 0 ... 689024  =      0.000 ...  1378.048 secs...\n"
          ]
        },
        {
          "output_type": "stream",
          "name": "stderr",
          "text": [
            "<ipython-input-95-1d56d2f5bf35>:10: RuntimeWarning: The data contains 'boundary' events, indicating data discontinuities. Be cautious of filtering and epoching around these events.\n",
            "  data = mne.io.read_raw_eeglab(file) # Reading the eeg data from the file\n"
          ]
        },
        {
          "output_type": "stream",
          "name": "stdout",
          "text": [
            "689025\n",
            "/content/drive/MyDrive/nnfl_assignment/nnfl_data/sub-007_ses-01_task-VisualWorkingMemory_eeg.set\n",
            "Reading /content/drive/MyDrive/nnfl_assignment/nnfl_data/sub-007_ses-01_task-VisualWorkingMemory_eeg.fdt\n",
            "Reading 0 ... 838274  =      0.000 ...  1676.548 secs...\n"
          ]
        },
        {
          "output_type": "stream",
          "name": "stderr",
          "text": [
            "<ipython-input-95-1d56d2f5bf35>:10: RuntimeWarning: The data contains 'boundary' events, indicating data discontinuities. Be cautious of filtering and epoching around these events.\n",
            "  data = mne.io.read_raw_eeglab(file) # Reading the eeg data from the file\n"
          ]
        },
        {
          "output_type": "stream",
          "name": "stdout",
          "text": [
            "838275\n",
            "/content/drive/MyDrive/nnfl_assignment/nnfl_data/sub-008_ses-01_task-VisualWorkingMemory_eeg.set\n",
            "Reading /content/drive/MyDrive/nnfl_assignment/nnfl_data/sub-008_ses-01_task-VisualWorkingMemory_eeg.fdt\n",
            "Reading 0 ... 665024  =      0.000 ...  1330.048 secs...\n"
          ]
        },
        {
          "output_type": "stream",
          "name": "stderr",
          "text": [
            "<ipython-input-95-1d56d2f5bf35>:10: RuntimeWarning: The data contains 'boundary' events, indicating data discontinuities. Be cautious of filtering and epoching around these events.\n",
            "  data = mne.io.read_raw_eeglab(file) # Reading the eeg data from the file\n"
          ]
        },
        {
          "output_type": "stream",
          "name": "stdout",
          "text": [
            "665025\n",
            "/content/drive/MyDrive/nnfl_assignment/nnfl_data/sub-009_ses-01_task-VisualWorkingMemory_eeg.set\n",
            "Reading /content/drive/MyDrive/nnfl_assignment/nnfl_data/sub-009_ses-01_task-VisualWorkingMemory_eeg.fdt\n",
            "Reading 0 ... 765624  =      0.000 ...  1531.248 secs...\n"
          ]
        },
        {
          "output_type": "stream",
          "name": "stderr",
          "text": [
            "<ipython-input-95-1d56d2f5bf35>:10: RuntimeWarning: The data contains 'boundary' events, indicating data discontinuities. Be cautious of filtering and epoching around these events.\n",
            "  data = mne.io.read_raw_eeglab(file) # Reading the eeg data from the file\n"
          ]
        },
        {
          "output_type": "stream",
          "name": "stdout",
          "text": [
            "765625\n",
            "/content/drive/MyDrive/nnfl_assignment/nnfl_data/sub-010_ses-01_task-VisualWorkingMemory_eeg.set\n",
            "Reading /content/drive/MyDrive/nnfl_assignment/nnfl_data/sub-010_ses-01_task-VisualWorkingMemory_eeg.fdt\n",
            "Reading 0 ... 708874  =      0.000 ...  1417.748 secs...\n"
          ]
        },
        {
          "output_type": "stream",
          "name": "stderr",
          "text": [
            "<ipython-input-95-1d56d2f5bf35>:10: RuntimeWarning: The data contains 'boundary' events, indicating data discontinuities. Be cautious of filtering and epoching around these events.\n",
            "  data = mne.io.read_raw_eeglab(file) # Reading the eeg data from the file\n"
          ]
        },
        {
          "output_type": "stream",
          "name": "stdout",
          "text": [
            "708875\n",
            "/content/drive/MyDrive/nnfl_assignment/nnfl_data/sub-011_ses-01_task-VisualWorkingMemory_eeg.set\n",
            "Reading /content/drive/MyDrive/nnfl_assignment/nnfl_data/sub-011_ses-01_task-VisualWorkingMemory_eeg.fdt\n",
            "Reading 0 ... 688924  =      0.000 ...  1377.848 secs...\n"
          ]
        },
        {
          "output_type": "stream",
          "name": "stderr",
          "text": [
            "<ipython-input-95-1d56d2f5bf35>:10: RuntimeWarning: The data contains 'boundary' events, indicating data discontinuities. Be cautious of filtering and epoching around these events.\n",
            "  data = mne.io.read_raw_eeglab(file) # Reading the eeg data from the file\n"
          ]
        },
        {
          "output_type": "stream",
          "name": "stdout",
          "text": [
            "688925\n",
            "/content/drive/MyDrive/nnfl_assignment/nnfl_data/sub-012_ses-01_task-VisualWorkingMemory_eeg.set\n",
            "Reading /content/drive/MyDrive/nnfl_assignment/nnfl_data/sub-012_ses-01_task-VisualWorkingMemory_eeg.fdt\n",
            "Reading 0 ... 742824  =      0.000 ...  1485.648 secs...\n"
          ]
        },
        {
          "output_type": "stream",
          "name": "stderr",
          "text": [
            "<ipython-input-95-1d56d2f5bf35>:10: RuntimeWarning: The data contains 'boundary' events, indicating data discontinuities. Be cautious of filtering and epoching around these events.\n",
            "  data = mne.io.read_raw_eeglab(file) # Reading the eeg data from the file\n"
          ]
        },
        {
          "output_type": "stream",
          "name": "stdout",
          "text": [
            "742825\n",
            "/content/drive/MyDrive/nnfl_assignment/nnfl_data/sub-013_ses-01_task-VisualWorkingMemory_eeg.set\n",
            "Reading /content/drive/MyDrive/nnfl_assignment/nnfl_data/sub-013_ses-01_task-VisualWorkingMemory_eeg.fdt\n",
            "Reading 0 ... 773324  =      0.000 ...  1546.648 secs...\n"
          ]
        },
        {
          "output_type": "stream",
          "name": "stderr",
          "text": [
            "<ipython-input-95-1d56d2f5bf35>:10: RuntimeWarning: The data contains 'boundary' events, indicating data discontinuities. Be cautious of filtering and epoching around these events.\n",
            "  data = mne.io.read_raw_eeglab(file) # Reading the eeg data from the file\n"
          ]
        },
        {
          "output_type": "stream",
          "name": "stdout",
          "text": [
            "773325\n",
            "/content/drive/MyDrive/nnfl_assignment/nnfl_data/sub-014_ses-01_task-VisualWorkingMemory_eeg.set\n",
            "Reading /content/drive/MyDrive/nnfl_assignment/nnfl_data/sub-014_ses-01_task-VisualWorkingMemory_eeg.fdt\n",
            "Reading 0 ... 732749  =      0.000 ...  1465.498 secs...\n"
          ]
        },
        {
          "output_type": "stream",
          "name": "stderr",
          "text": [
            "<ipython-input-95-1d56d2f5bf35>:10: RuntimeWarning: The data contains 'boundary' events, indicating data discontinuities. Be cautious of filtering and epoching around these events.\n",
            "  data = mne.io.read_raw_eeglab(file) # Reading the eeg data from the file\n"
          ]
        },
        {
          "output_type": "stream",
          "name": "stdout",
          "text": [
            "732750\n",
            "/content/drive/MyDrive/nnfl_assignment/nnfl_data/sub-015_ses-01_task-VisualWorkingMemory_eeg.set\n",
            "Reading /content/drive/MyDrive/nnfl_assignment/nnfl_data/sub-015_ses-01_task-VisualWorkingMemory_eeg.fdt\n",
            "Reading 0 ... 713374  =      0.000 ...  1426.748 secs...\n"
          ]
        },
        {
          "output_type": "stream",
          "name": "stderr",
          "text": [
            "<ipython-input-95-1d56d2f5bf35>:10: RuntimeWarning: The data contains 'boundary' events, indicating data discontinuities. Be cautious of filtering and epoching around these events.\n",
            "  data = mne.io.read_raw_eeglab(file) # Reading the eeg data from the file\n"
          ]
        },
        {
          "output_type": "stream",
          "name": "stdout",
          "text": [
            "713375\n"
          ]
        }
      ],
      "source": [
        "nsamples = 15 # for now 15 samples,\n",
        "sum = 0 # total number of datapoints\n",
        "\n",
        "for i in range(1, nsamples+1): # since we are excluding sample 37 due to download error, 60 samples, 1-61\n",
        "  if i == 36:\n",
        "    continue\n",
        "  file = \"/content/drive/MyDrive/nnfl_assignment/nnfl_data/sub-0\"+f\"{i:02d}\"+\"_ses-01_task-VisualWorkingMemory_eeg.set\"\n",
        "  print(file) # printing the filepaths contructed\n",
        "\n",
        "  data = mne.io.read_raw_eeglab(file) # Reading the eeg data from the file\n",
        "  raw_data = data.load_data()         # Loading data into raw_data\n",
        "  raw_data = data.get_data()          # Retrieving using get_data\n",
        "  eegs.append(raw_data)               # Numpy array is appended to the eegs list\n",
        "  print(len(raw_data[0]))             # Printing Number of EEG channels in the recording\n",
        "  sum += len(raw_data[0])             # Sum contains the total number of data points,\n",
        "                                      # i.e., the sum of the lengths of the EEG data arrays across all the EEG recordings.\n"
      ]
    },
    {
      "cell_type": "code",
      "execution_count": null,
      "metadata": {
        "id": "Yg9dwI1Y6468",
        "colab": {
          "base_uri": "https://localhost:8080/"
        },
        "outputId": "d35f7146-4fef-419c-eb4b-0252b31d90a8"
      },
      "outputs": [
        {
          "output_type": "stream",
          "name": "stdout",
          "text": [
            "<Info | 8 non-empty values\n",
            " bads: []\n",
            " ch_names: Fp1, Fz, F3, F7, FT9, FC5, FC1, C3, T7, TP9, CP5, CP1, Pz, P3, ...\n",
            " chs: 65 EEG\n",
            " custom_ref_applied: False\n",
            " dig: 65 items (65 EEG)\n",
            " highpass: 0.0 Hz\n",
            " lowpass: 250.0 Hz\n",
            " meas_date: unspecified\n",
            " nchan: 65\n",
            " projs: []\n",
            " sfreq: 500.0 Hz\n",
            ">\n",
            "['Fp1', 'Fz', 'F3', 'F7', 'FT9', 'FC5', 'FC1', 'C3', 'T7', 'TP9', 'CP5', 'CP1', 'Pz', 'P3', 'P7', 'O1', 'Oz', 'O2', 'P4', 'P8', 'TP10', 'CP6', 'CP2', 'Cz', 'C4', 'T8', 'FT10', 'FC6', 'FC2', 'F4', 'F8', 'Fp2', 'AF7', 'AF3', 'AFz', 'F1', 'F5', 'FT7', 'FC3', 'FCz', 'C1', 'C5', 'TP7', 'CP3', 'P1', 'P5', 'PO7', 'PO3', 'POz', 'PO4', 'PO8', 'P6', 'P2', 'CP4', 'TP8', 'C6', 'C2', 'FC4', 'FT8', 'F6', 'F2', 'AF4', 'AF8', 'VEOG', 'EKG']\n",
            "65\n"
          ]
        }
      ],
      "source": [
        "# just to show format:\n",
        "# you can get the metadata included in the file and a list of all channels:\n",
        "info = data.info\n",
        "channels = data.ch_names\n",
        "print(info)\n",
        "print(channels)\n",
        "print(len(channels))"
      ]
    },
    {
      "cell_type": "code",
      "execution_count": null,
      "metadata": {
        "id": "RXEooZxixX-2"
      },
      "outputs": [],
      "source": [
        "nchannels = 65"
      ]
    },
    {
      "cell_type": "code",
      "execution_count": null,
      "metadata": {
        "id": "B_IMKafYWKrv",
        "colab": {
          "base_uri": "https://localhost:8080/"
        },
        "outputId": "a1c5f8f2-1485-4eac-9974-d8d9cf36ee2a"
      },
      "outputs": [
        {
          "output_type": "stream",
          "name": "stdout",
          "text": [
            "15\n",
            "65\n",
            "766850\n",
            "766850\n"
          ]
        }
      ],
      "source": [
        "print(len(eegs))            # Printing Number of eeg recordings stored in eegs list\n",
        "                            # Each EEG recording corresponds to one data file in the dataset\n",
        "print(len(eegs[1]))         # Prints the number of channels in the second EEG recording stored in the eegs list\n",
        "print(len(eegs[1][0]))      # Prints the number of time points in the first channel of\n",
        "                            # the second EEG recording stored in the eegs list.\n",
        "print(len(eegs[1][4]))      # 5th channel"
      ]
    },
    {
      "cell_type": "markdown",
      "metadata": {
        "id": "bBzVyZcJ5Qt1"
      },
      "source": [
        "## Preprocess Dataset"
      ]
    },
    {
      "cell_type": "markdown",
      "metadata": {
        "id": "TlwbSDzF5UHE"
      },
      "source": [
        "## Downsample data\n",
        "current sampling frequency = 500 Hz, and number of data points is very large\n",
        "from reference from previous works, downsampling by 4 times, i.e one in 4 data points collected to get reduced eeg signal set\n",
        "- modified sampling frequency = 125 Hz"
      ]
    },
    {
      "cell_type": "code",
      "execution_count": null,
      "metadata": {
        "id": "HyW2VoEbmYhs",
        "colab": {
          "base_uri": "https://localhost:8080/"
        },
        "outputId": "963725c0-fab6-4abd-a42b-e9a8cf78eb8a"
      },
      "outputs": [
        {
          "output_type": "stream",
          "name": "stdout",
          "text": [
            "736415\n"
          ]
        }
      ],
      "source": [
        "# Original sampling frequency\n",
        "fs_orig = 500 # Hz\n",
        "\n",
        "# New sampling frequency (one fourth the original)\n",
        "fs_new = 125 # Hz\n",
        "\n",
        "# for computationally efficiency, taking mean of the datapoints to ensure all eegs have equal number of data points\n",
        "mean_length = int(sum/nsamples)\n",
        "print(mean_length)\n",
        "eeg_data = np.zeros(mean_length)\n",
        "# Down-sample EEG signal\n",
        "n_samples_new = int(mean_length / (fs_orig / fs_new))\n",
        "eeg_data_downsampled = np.zeros((nchannels, n_samples_new))\n",
        "all_eegs_downsampled = list()\n",
        "\n",
        "# for each eeg in each channel, downsampling must be applied\n",
        "for eeg in eegs:\n",
        "  eeg_ds = list() # new eeg\n",
        "  for i, channel in enumerate(eeg):\n",
        "    # either remove extra datapoints or add padding data points\n",
        "    if len(channel) == mean_length:\n",
        "      eeg_data = channel\n",
        "    elif len(channel) > mean_length:\n",
        "      eeg_data = channel[0: mean_length]\n",
        "    else:\n",
        "      eeg_data[0:len(channel)] = channel\n",
        "      eeg_data[len(channel):mean_length] = [0]*(mean_length-len(channel))\n",
        "    # now, eeg_data stores the modified length channel\n",
        "    for j in range(n_samples_new):\n",
        "        eeg_data_downsampled[i][j] = eeg_data[j * 4]\n",
        "    eeg_ds.append(eeg_data_downsampled[i])\n",
        "  all_eegs_downsampled.append(eeg_ds)\n"
      ]
    },
    {
      "cell_type": "code",
      "execution_count": null,
      "metadata": {
        "id": "RJqYMgawmbVg"
      },
      "outputs": [],
      "source": [
        "# print(all_eegs_downsampled)"
      ]
    },
    {
      "cell_type": "code",
      "execution_count": null,
      "metadata": {
        "id": "sBm8J3nuoVgo",
        "colab": {
          "base_uri": "https://localhost:8080/"
        },
        "outputId": "1bd5ffc0-5828-455b-a903-4e38d97c35b2"
      },
      "outputs": [
        {
          "output_type": "stream",
          "name": "stdout",
          "text": [
            "15\n"
          ]
        }
      ],
      "source": [
        "print(len(all_eegs_downsampled))"
      ]
    },
    {
      "cell_type": "markdown",
      "metadata": {
        "id": "OufFnHjMy9Ar"
      },
      "source": [
        "## Aplying bandpass filter\n",
        "since the low-pass frequency was 250 Hz whereas required frequency is in the range of 1-40Hz from report"
      ]
    },
    {
      "cell_type": "code",
      "execution_count": null,
      "metadata": {
        "id": "lNAnNTk3z4R6"
      },
      "outputs": [],
      "source": [
        "from os import fstatvfs\n",
        "# denoising and bandpass filter using butterworth\n",
        "from scipy.signal import butter, filtfilt\n",
        "# # Cutoff frequency (in Hz)\n",
        "# cutoff = 40\n",
        "# Order of the filter\n",
        "order = 2  # to begin with\n",
        "# Sampling frequency of the ECG signal (in Hz)\n",
        "fs = 173.6\n",
        "# low cut freq Hz\n",
        "low_cut = 1\n",
        "# high cut freq Hz\n",
        "high_cut = 40\n",
        "\n",
        "# Compute the filter coefficients\n",
        "nyq = 0.5 * fs # Nyquist frequency (in Hz) i.e half the sampling rate\n",
        "low = low_cut / nyq\n",
        "high = high_cut / nyq\n",
        "\n",
        "b, a = butter(order, [low, high], btype='band')"
      ]
    },
    {
      "cell_type": "code",
      "execution_count": null,
      "metadata": {
        "id": "IzngaFYnz-RS"
      },
      "outputs": [],
      "source": [
        "def bandpass(eeg_data):\n",
        "  # Apply the filter\n",
        "  return filtfilt(b, a, eeg_data)"
      ]
    },
    {
      "cell_type": "markdown",
      "metadata": {
        "id": "2XdZFf4_5Xdc"
      },
      "source": [
        "## Applying DWT and PCA - feature extraction and reduction"
      ]
    },
    {
      "cell_type": "code",
      "execution_count": null,
      "metadata": {
        "id": "3WDNHMRh5a4U"
      },
      "outputs": [],
      "source": [
        "# applying DWT and PCA to restructure the signal and perform feature extraction\n",
        "# this way we can obtain the most meaningful data with a lower dimension\n",
        "# thereby reducing computational complexity while not losing out on much information"
      ]
    },
    {
      "cell_type": "code",
      "execution_count": null,
      "metadata": {
        "id": "osA_PT6l2-lF"
      },
      "outputs": [],
      "source": [
        "from sklearn.decomposition import PCA\n",
        "import pywt\n",
        "\n",
        "wavelet_family = 'db4'  # Daubechies 4 wavelet\n",
        "level = 5  # DWT decomposition level"
      ]
    },
    {
      "cell_type": "code",
      "execution_count": null,
      "metadata": {
        "id": "zb8Zv4nt1hhm"
      },
      "outputs": [],
      "source": [
        "\n",
        "# Perform DWT decomposition for each channel\n",
        "def dwt(eeg_data):\n",
        "  coeffs_all_channels = []\n",
        "  for channel_data in eeg_data:  # Loop over channels\n",
        "      coeffs = pywt.wavedec(channel_data, wavelet_family, level=level)\n",
        "      coeffs_all_channels.append(coeffs)\n",
        "  # each dwt contains detailed coeffs and approximate coeffs, we want the approximate ones\n",
        "  # Extract the approximation coefficients (cA) from the highest DWT level for each channel, wavedec reverses cA and cD so cD first\n",
        "  cA_all_channels = [coeffs[-1] for coeffs in coeffs_all_channels]\n",
        "\n",
        "  # Stack the approximation coefficients for all channels into a single feature matrix - row wise\n",
        "  feature_matrix = np.vstack(cA_all_channels)\n",
        "  # print(feature_matrix.shape)\n",
        "  # Perform feature selection (e.g., using PCA or other methods)\n",
        "  # create PCA object with n=4 components i.e the number of dimensions you want to reduce to\n",
        "  # i.e final number of channels\n",
        "  n = 4\n",
        "  pca = PCA(n_components=n)\n",
        "\n",
        "  # fit model to data you wan to apply feature_selection on\n",
        "  pca.fit(feature_matrix)\n",
        "\n",
        "  # transform data into n-dimensional space\n",
        "  feature_transformed = pca.transform(feature_matrix)\n",
        "  # print(len(feature_transformed))\n",
        "  selected_channels = pca.components_.argmax(axis=1) # i.e. find the columns giving you the maximum value\n",
        "  # print(len(selected_channels))\n",
        "\n",
        "  reconstructed_eeg = list()\n",
        "\n",
        "  # Select a subset of channels based on the selected features\n",
        "  # for every selected channel, reconstruct the signal\n",
        "  for i in range(len(selected_channels)):\n",
        "    # will not be applying dwt again on the reduced set as well\n",
        "    reconstructed_eeg.append(pywt.waverec(coeffs, wavelet_family))\n",
        "\n",
        "  return reconstructed_eeg\n"
      ]
    },
    {
      "cell_type": "markdown",
      "metadata": {
        "id": "OaHw7oPdWAlz"
      },
      "source": [
        "## function calls"
      ]
    },
    {
      "cell_type": "code",
      "execution_count": null,
      "metadata": {
        "id": "XlORLPTkWDHg"
      },
      "outputs": [],
      "source": [
        "# call bandpass filter\n",
        "eeg_filtered = list()\n",
        "for eeg in all_eegs_downsampled:\n",
        "  eeg_bp = list() # new eeg\n",
        "  for channel in eeg:\n",
        "    # for each channel in an eeg signal\n",
        "    eeg_bp.append(bandpass(channel))\n",
        "  eeg_filtered.append(eeg_bp)\n"
      ]
    },
    {
      "cell_type": "code",
      "execution_count": null,
      "metadata": {
        "id": "16gO2ybbd2re"
      },
      "outputs": [],
      "source": [
        "# call feature selection and extraction function\n",
        "eeg_reduced = list()\n",
        "for eeg in eeg_filtered:\n",
        "  eeg_reduced.append(dwt(eeg))"
      ]
    },
    {
      "cell_type": "markdown",
      "metadata": {
        "id": "kzDmFiB1ex1Q"
      },
      "source": [
        "# Load dataset and Split for train and test"
      ]
    },
    {
      "cell_type": "code",
      "execution_count": null,
      "metadata": {
        "id": "hpCK8kP7euiA"
      },
      "outputs": [],
      "source": [
        "# read the dataset and assign the labels to Y, be sure to skip 37\n",
        "# most likely have to convert to numpy array"
      ]
    },
    {
      "cell_type": "code",
      "execution_count": null,
      "metadata": {
        "id": "xgIQAkFHrebp"
      },
      "outputs": [],
      "source": [
        "#!wget https://s3.amazonaws.com/openneuro.org/ds003523/participants.tsv?versionId=mUpCmI3u5_jVNLfSFrfm8Pgf.qGx0.nM -O participants.tsv\n"
      ]
    },
    {
      "cell_type": "code",
      "execution_count": null,
      "metadata": {
        "id": "W039t9cXwxY_"
      },
      "outputs": [],
      "source": [
        "participants_file = \"/content/drive/MyDrive/nnfl_assignment/participants.tsv\""
      ]
    },
    {
      "cell_type": "code",
      "execution_count": null,
      "metadata": {
        "id": "KNqSKUXAfsf1",
        "colab": {
          "base_uri": "https://localhost:8080/"
        },
        "outputId": "7d905e0e-8339-4ea6-90a4-472957893d4e"
      },
      "outputs": [
        {
          "output_type": "stream",
          "name": "stdout",
          "text": [
            "(15, 4, 184104)\n"
          ]
        }
      ],
      "source": [
        "X = np.array(eeg_reduced)\n",
        "print(X.shape)"
      ]
    },
    {
      "cell_type": "markdown",
      "metadata": {
        "id": "hTmBzCzMufvQ"
      },
      "source": [
        "Splitting Data into training and Testing sets"
      ]
    },
    {
      "cell_type": "code",
      "execution_count": null,
      "metadata": {
        "id": "R7CruWvloLlJ",
        "colab": {
          "base_uri": "https://localhost:8080/"
        },
        "outputId": "a03b7c6d-e1d7-4713-f5fd-91626233a71f"
      },
      "outputs": [
        {
          "output_type": "stream",
          "name": "stdout",
          "text": [
            "(15, 4, 184104)\n",
            "184104\n",
            "4\n",
            "None\n"
          ]
        }
      ],
      "source": [
        "print(X.shape) # Training\n",
        "print(len(eeg_reduced[0][1]))\n",
        "print(print(len(eeg_reduced[0])))"
      ]
    },
    {
      "cell_type": "code",
      "execution_count": null,
      "metadata": {
        "id": "AKq04FI3m7eo"
      },
      "outputs": [],
      "source": [
        "import pandas as pd\n",
        "\n",
        "# Load participant information from the TSV file\n",
        "participants_df = pd.read_csv(participants_file, sep='\\t')\n",
        "\n",
        "# Extract labels from the \"group\" column\n",
        "all_labels = participants_df['Group'].tolist()\n",
        "\n",
        "labels = []\n",
        "for i in range(1, nsamples+1):\n",
        "    if i == 36:\n",
        "        continue\n",
        "    label = all_labels[i-1]  # since index starts from 0\n",
        "    labels.append(label)"
      ]
    },
    {
      "cell_type": "code",
      "execution_count": null,
      "metadata": {
        "id": "ogj6x_XSsoTc",
        "colab": {
          "base_uri": "https://localhost:8080/"
        },
        "outputId": "6461c7e6-0dd2-4666-c755-6c5c60c5e702"
      },
      "outputs": [
        {
          "output_type": "stream",
          "name": "stdout",
          "text": [
            "[0, 1, 0, 0, 0, 1, 0, 1, 1, 1, 0, 0, 0, 0, 1]\n"
          ]
        }
      ],
      "source": [
        "print(labels)\n",
        "Y = labels"
      ]
    },
    {
      "cell_type": "code",
      "execution_count": null,
      "metadata": {
        "id": "d6UXNFsauakw"
      },
      "outputs": [],
      "source": [
        "#spliting the dataset into training and testing dataset\n",
        "from sklearn.model_selection import train_test_split"
      ]
    },
    {
      "cell_type": "code",
      "execution_count": null,
      "metadata": {
        "id": "upPfwDfsuc6Q"
      },
      "outputs": [],
      "source": [
        "# Split the \"target\" and \"features\" data into training and testing sets\n",
        "X_train, X_test, y_train, y_test = train_test_split(X,Y,test_size = 0.2,random_state = 42)"
      ]
    },
    {
      "cell_type": "code",
      "execution_count": null,
      "metadata": {
        "id": "QLdFodCouuHs"
      },
      "outputs": [],
      "source": [
        "import numpy as np\n",
        "\n",
        "# reshape X_train into 2D\n",
        "X_train = np.reshape(X_train, (X_train.shape[0], -1))\n",
        "\n",
        "# reshape X_test into 2D\n",
        "X_test = np.reshape(X_test, (X_test.shape[0], -1))"
      ]
    },
    {
      "cell_type": "markdown",
      "metadata": {
        "id": "wZyxRW80vFWg"
      },
      "source": [
        "XGBoost"
      ]
    },
    {
      "cell_type": "code",
      "execution_count": null,
      "metadata": {
        "id": "8UvuA4ABa3Ib"
      },
      "outputs": [],
      "source": [
        "#Implementing XGBoost\n",
        "from numpy import loadtxt\n",
        "from xgboost import XGBClassifier\n",
        "from sklearn.model_selection import train_test_split\n",
        "from sklearn.metrics import accuracy_score"
      ]
    },
    {
      "cell_type": "code",
      "execution_count": null,
      "metadata": {
        "id": "iBRYWM_1a8ms"
      },
      "outputs": [],
      "source": [
        "# fit model no training data\n",
        "model = XGBClassifier(n_estimators=200, max_depth=6, learning_rate=0.1, subsample=0.8, random_state=42)"
      ]
    },
    {
      "cell_type": "code",
      "execution_count": null,
      "metadata": {
        "id": "KcP3i4Cx8AYl",
        "colab": {
          "base_uri": "https://localhost:8080/",
          "height": 248
        },
        "outputId": "a131c39f-d865-48aa-d3a3-e9e0cbc291e5"
      },
      "outputs": [
        {
          "output_type": "execute_result",
          "data": {
            "text/plain": [
              "XGBClassifier(base_score=None, booster=None, callbacks=None,\n",
              "              colsample_bylevel=None, colsample_bynode=None,\n",
              "              colsample_bytree=None, early_stopping_rounds=None,\n",
              "              enable_categorical=False, eval_metric=None, feature_types=None,\n",
              "              gamma=None, gpu_id=None, grow_policy=None, importance_type=None,\n",
              "              interaction_constraints=None, learning_rate=0.1, max_bin=None,\n",
              "              max_cat_threshold=None, max_cat_to_onehot=None,\n",
              "              max_delta_step=None, max_depth=6, max_leaves=None,\n",
              "              min_child_weight=None, missing=nan, monotone_constraints=None,\n",
              "              n_estimators=200, n_jobs=None, num_parallel_tree=None,\n",
              "              predictor=None, random_state=42, ...)"
            ],
            "text/html": [
              "<style>#sk-container-id-3 {color: black;background-color: white;}#sk-container-id-3 pre{padding: 0;}#sk-container-id-3 div.sk-toggleable {background-color: white;}#sk-container-id-3 label.sk-toggleable__label {cursor: pointer;display: block;width: 100%;margin-bottom: 0;padding: 0.3em;box-sizing: border-box;text-align: center;}#sk-container-id-3 label.sk-toggleable__label-arrow:before {content: \"▸\";float: left;margin-right: 0.25em;color: #696969;}#sk-container-id-3 label.sk-toggleable__label-arrow:hover:before {color: black;}#sk-container-id-3 div.sk-estimator:hover label.sk-toggleable__label-arrow:before {color: black;}#sk-container-id-3 div.sk-toggleable__content {max-height: 0;max-width: 0;overflow: hidden;text-align: left;background-color: #f0f8ff;}#sk-container-id-3 div.sk-toggleable__content pre {margin: 0.2em;color: black;border-radius: 0.25em;background-color: #f0f8ff;}#sk-container-id-3 input.sk-toggleable__control:checked~div.sk-toggleable__content {max-height: 200px;max-width: 100%;overflow: auto;}#sk-container-id-3 input.sk-toggleable__control:checked~label.sk-toggleable__label-arrow:before {content: \"▾\";}#sk-container-id-3 div.sk-estimator input.sk-toggleable__control:checked~label.sk-toggleable__label {background-color: #d4ebff;}#sk-container-id-3 div.sk-label input.sk-toggleable__control:checked~label.sk-toggleable__label {background-color: #d4ebff;}#sk-container-id-3 input.sk-hidden--visually {border: 0;clip: rect(1px 1px 1px 1px);clip: rect(1px, 1px, 1px, 1px);height: 1px;margin: -1px;overflow: hidden;padding: 0;position: absolute;width: 1px;}#sk-container-id-3 div.sk-estimator {font-family: monospace;background-color: #f0f8ff;border: 1px dotted black;border-radius: 0.25em;box-sizing: border-box;margin-bottom: 0.5em;}#sk-container-id-3 div.sk-estimator:hover {background-color: #d4ebff;}#sk-container-id-3 div.sk-parallel-item::after {content: \"\";width: 100%;border-bottom: 1px solid gray;flex-grow: 1;}#sk-container-id-3 div.sk-label:hover label.sk-toggleable__label {background-color: #d4ebff;}#sk-container-id-3 div.sk-serial::before {content: \"\";position: absolute;border-left: 1px solid gray;box-sizing: border-box;top: 0;bottom: 0;left: 50%;z-index: 0;}#sk-container-id-3 div.sk-serial {display: flex;flex-direction: column;align-items: center;background-color: white;padding-right: 0.2em;padding-left: 0.2em;position: relative;}#sk-container-id-3 div.sk-item {position: relative;z-index: 1;}#sk-container-id-3 div.sk-parallel {display: flex;align-items: stretch;justify-content: center;background-color: white;position: relative;}#sk-container-id-3 div.sk-item::before, #sk-container-id-3 div.sk-parallel-item::before {content: \"\";position: absolute;border-left: 1px solid gray;box-sizing: border-box;top: 0;bottom: 0;left: 50%;z-index: -1;}#sk-container-id-3 div.sk-parallel-item {display: flex;flex-direction: column;z-index: 1;position: relative;background-color: white;}#sk-container-id-3 div.sk-parallel-item:first-child::after {align-self: flex-end;width: 50%;}#sk-container-id-3 div.sk-parallel-item:last-child::after {align-self: flex-start;width: 50%;}#sk-container-id-3 div.sk-parallel-item:only-child::after {width: 0;}#sk-container-id-3 div.sk-dashed-wrapped {border: 1px dashed gray;margin: 0 0.4em 0.5em 0.4em;box-sizing: border-box;padding-bottom: 0.4em;background-color: white;}#sk-container-id-3 div.sk-label label {font-family: monospace;font-weight: bold;display: inline-block;line-height: 1.2em;}#sk-container-id-3 div.sk-label-container {text-align: center;}#sk-container-id-3 div.sk-container {/* jupyter's `normalize.less` sets `[hidden] { display: none; }` but bootstrap.min.css set `[hidden] { display: none !important; }` so we also need the `!important` here to be able to override the default hidden behavior on the sphinx rendered scikit-learn.org. See: https://github.com/scikit-learn/scikit-learn/issues/21755 */display: inline-block !important;position: relative;}#sk-container-id-3 div.sk-text-repr-fallback {display: none;}</style><div id=\"sk-container-id-3\" class=\"sk-top-container\"><div class=\"sk-text-repr-fallback\"><pre>XGBClassifier(base_score=None, booster=None, callbacks=None,\n",
              "              colsample_bylevel=None, colsample_bynode=None,\n",
              "              colsample_bytree=None, early_stopping_rounds=None,\n",
              "              enable_categorical=False, eval_metric=None, feature_types=None,\n",
              "              gamma=None, gpu_id=None, grow_policy=None, importance_type=None,\n",
              "              interaction_constraints=None, learning_rate=0.1, max_bin=None,\n",
              "              max_cat_threshold=None, max_cat_to_onehot=None,\n",
              "              max_delta_step=None, max_depth=6, max_leaves=None,\n",
              "              min_child_weight=None, missing=nan, monotone_constraints=None,\n",
              "              n_estimators=200, n_jobs=None, num_parallel_tree=None,\n",
              "              predictor=None, random_state=42, ...)</pre><b>In a Jupyter environment, please rerun this cell to show the HTML representation or trust the notebook. <br />On GitHub, the HTML representation is unable to render, please try loading this page with nbviewer.org.</b></div><div class=\"sk-container\" hidden><div class=\"sk-item\"><div class=\"sk-estimator sk-toggleable\"><input class=\"sk-toggleable__control sk-hidden--visually\" id=\"sk-estimator-id-3\" type=\"checkbox\" checked><label for=\"sk-estimator-id-3\" class=\"sk-toggleable__label sk-toggleable__label-arrow\">XGBClassifier</label><div class=\"sk-toggleable__content\"><pre>XGBClassifier(base_score=None, booster=None, callbacks=None,\n",
              "              colsample_bylevel=None, colsample_bynode=None,\n",
              "              colsample_bytree=None, early_stopping_rounds=None,\n",
              "              enable_categorical=False, eval_metric=None, feature_types=None,\n",
              "              gamma=None, gpu_id=None, grow_policy=None, importance_type=None,\n",
              "              interaction_constraints=None, learning_rate=0.1, max_bin=None,\n",
              "              max_cat_threshold=None, max_cat_to_onehot=None,\n",
              "              max_delta_step=None, max_depth=6, max_leaves=None,\n",
              "              min_child_weight=None, missing=nan, monotone_constraints=None,\n",
              "              n_estimators=200, n_jobs=None, num_parallel_tree=None,\n",
              "              predictor=None, random_state=42, ...)</pre></div></div></div></div></div>"
            ]
          },
          "metadata": {},
          "execution_count": 121
        }
      ],
      "source": [
        "model.fit(X_train, y_train)"
      ]
    },
    {
      "cell_type": "code",
      "execution_count": null,
      "metadata": {
        "id": "SeAtQL3nbAWj"
      },
      "outputs": [],
      "source": [
        "# make predictions for test data\n",
        "predictions = model.predict(X_test)"
      ]
    },
    {
      "cell_type": "code",
      "execution_count": null,
      "metadata": {
        "id": "TJHusAs5bCT7",
        "colab": {
          "base_uri": "https://localhost:8080/"
        },
        "outputId": "670d3825-9a86-4502-cb9d-9b4553999630"
      },
      "outputs": [
        {
          "output_type": "stream",
          "name": "stdout",
          "text": [
            "0.6666666666666666\n"
          ]
        }
      ],
      "source": [
        "# evaluate predictions\n",
        "accuracy = accuracy_score(y_test, predictions)\n",
        "print(accuracy)"
      ]
    },
    {
      "cell_type": "code",
      "execution_count": null,
      "metadata": {
        "id": "sG5-CU8AbH4j",
        "colab": {
          "base_uri": "https://localhost:8080/"
        },
        "outputId": "042e63fe-8b99-4d05-a31b-6a511e675ad3"
      },
      "outputs": [
        {
          "output_type": "stream",
          "name": "stdout",
          "text": [
            "Confusion Matrix: \n",
            "[[2 0]\n",
            " [1 0]]\n"
          ]
        }
      ],
      "source": [
        "#Confusion matrix\n",
        "from sklearn.metrics import confusion_matrix\n",
        "cm_rf = confusion_matrix(y_test, predictions)\n",
        "print('Confusion Matrix: ')\n",
        "print(cm_rf)\n",
        "\n",
        "tp = cm_rf[0,0]\n",
        "fn = cm_rf[0,1]\n",
        "fp = cm_rf[1,0]\n",
        "tn = cm_rf[1,1]\n",
        "p = tp + fn\n",
        "n = fp + tn\n",
        "\n",
        "accuracy_xgb = (tp + tn) / (p + n)\n",
        "error_rate_xgb = (fp + fn) / (p + n)\n",
        "sensitivity_xgb = tp /p\n",
        "specificity_xgb = tn / n\n",
        "precision_xgb = tp / (tp + fp)\n",
        "f1_score_xgb = (2 * precision_xgb * sensitivity_xgb)/ (precision_xgb + sensitivity_xgb)"
      ]
    },
    {
      "cell_type": "markdown",
      "metadata": {
        "id": "gaH86qR7wJ8X"
      },
      "source": [
        "CNN"
      ]
    },
    {
      "cell_type": "code",
      "execution_count": null,
      "metadata": {
        "id": "kIxUSGx2RC5D"
      },
      "outputs": [],
      "source": [
        "import tensorflow as tf\n",
        "from tensorflow.keras.models import Sequential\n",
        "from tensorflow.keras.layers import Dense, Conv1D, MaxPooling1D, Flatten, Dropout\n",
        "import numpy as np"
      ]
    },
    {
      "cell_type": "code",
      "execution_count": null,
      "metadata": {
        "id": "rpm6NLQZVX95"
      },
      "outputs": [],
      "source": [
        "def build_model(X):lr\n",
        "    n_samples = X[0].shape[0]\n",
        "    n_channels = 1  # Since the input is a 1D array, there is only one channel\n",
        "    print(n_samples, n_channels)\n",
        "    model = Sequential()\n",
        "\n",
        "    # Add the input layer\n",
        "    model.add(Conv1D(filters=11, kernel_size=5, activation='relu', input_shape=(n_samples, n_channels)))\n",
        "\n",
        "    # Add a max pooling layer\n",
        "    model.add(MaxPooling1D(pool_size=4, strides=4))\n",
        "\n",
        "    # Add another convolutional layer\n",
        "    model.add(Conv1D(filters=7, kernel_size=5, activation='relu'))\n",
        "\n",
        "    # Add another max pooling layer\n",
        "    model.add(MaxPooling1D(pool_size=4, strides=4))\n",
        "\n",
        "    # Flatten the output from the convolutional layers\n",
        "    model.add(Flatten())\n",
        "\n",
        "    # Add a fully connected layer\n",
        "    model.add(Dense(units=50, activation='relu'))\n",
        "\n",
        "    # Add another fully connected layer\n",
        "    model.add(Dense(units=20, activation='relu'))\n",
        "\n",
        "    # Add dropout to reduce overfitting\n",
        "    model.add(Dropout(0.5))\n",
        "\n",
        "    # Add the output layer with a single neuron and sigmoid activation\n",
        "    model.add(Dense(units=1, activation='sigmoid'))\n",
        "\n",
        "    # Compile the model\n",
        "    model.compile(loss='binary_crossentropy', optimizer='adam', metrics=['accuracy'])\n",
        "\n",
        "    return model\n"
      ]
    },
    {
      "cell_type": "code",
      "execution_count": null,
      "metadata": {
        "id": "3uvcgiXj_juJ",
        "colab": {
          "base_uri": "https://localhost:8080/"
        },
        "outputId": "1b61e670-167a-4db6-ddaa-d4fcdea638db"
      },
      "outputs": [
        {
          "output_type": "stream",
          "name": "stdout",
          "text": [
            "736416 1\n"
          ]
        }
      ],
      "source": [
        "# Build the model\n",
        "model = build_model(X_train)"
      ]
    },
    {
      "cell_type": "code",
      "execution_count": null,
      "metadata": {
        "id": "B6fLV4JZ_jJ3"
      },
      "outputs": [],
      "source": [
        "import numpy as np\n",
        "\n",
        "X_train = np.array(X_train)\n",
        "y_train = np.array(y_train)\n",
        "y_test = np.array(y_test)\n",
        "\n",
        "# train the model\n",
        "history = model.fit(X_train, y_train, epochs=20, batch_size=16, validation_split=0.2)\n",
        "\n",
        "# evaluate the model on test set\n",
        "test_loss, test_acc = model.evaluate(X_test, y_test)\n",
        "\n",
        "# make predictions on test set\n",
        "y_pred = model.predict(X_test)\n",
        "\n",
        "# print the test accuracy and loss\n",
        "print('Test accuracy:', test_acc)\n",
        "print('Test loss:', test_loss)\n"
      ]
    },
    {
      "cell_type": "code",
      "execution_count": null,
      "metadata": {
        "id": "JXvOtmHZt1OK",
        "colab": {
          "base_uri": "https://localhost:8080/"
        },
        "outputId": "47bffb5f-3a4e-43fc-cf63-96cd70a9f350"
      },
      "outputs": [
        {
          "output_type": "stream",
          "name": "stdout",
          "text": [
            "Confusion Matrix: \n",
            "[[2 0]\n",
            " [1 0]]\n"
          ]
        }
      ],
      "source": [
        "#Confusion matrix\n",
        "from sklearn.metrics import confusion_matrix\n",
        "cm_rf = confusion_matrix(y_test, predictions)\n",
        "print('Confusion Matrix: ')\n",
        "print(cm_rf)\n",
        "\n",
        "tp = cm_rf[0,0]\n",
        "fn = cm_rf[0,1]\n",
        "fp = cm_rf[1,0]\n",
        "tn = cm_rf[1,1]\n",
        "p = tp + fn\n",
        "n = fp + tn\n",
        "\n",
        "accuracy_cnn = (tp + tn) / (p + n)\n",
        "error_rate_cnn = (fp + fn) / (p + n)\n",
        "sensitivity_cnn = tp /p\n",
        "specificity_cnn = tn / n\n",
        "precision_cnn = tp / (tp + fp)\n",
        "f1_score_cnn = (2 * precision_cnn * sensitivity_cnn)/ (precision_cnn + sensitivity_cnn)"
      ]
    },
    {
      "cell_type": "markdown",
      "metadata": {
        "id": "b6E8QhAnpsEQ"
      },
      "source": [
        "\n",
        "# Results\n"
      ]
    },
    {
      "cell_type": "code",
      "execution_count": null,
      "metadata": {
        "id": "e3bDJJcouVL5"
      },
      "outputs": [],
      "source": [
        "matrix = [[accuracy_xgb, error_rate_xgb, sensitivity_xgb, specificity_xgb, precision_xgb, f1_score_xgb],\n",
        "          [accuracy_cnn, error_rate_cnn, sensitivity_cnn, specificity_cnn, precision_cnn, f1_score_cnn]]"
      ]
    },
    {
      "cell_type": "code",
      "execution_count": null,
      "metadata": {
        "id": "BInNyvorvlFZ"
      },
      "outputs": [],
      "source": [
        "import matplotlib.pyplot as plt # For embedding plots into applications"
      ]
    },
    {
      "cell_type": "code",
      "execution_count": null,
      "metadata": {
        "id": "GakxawfNuX5W",
        "colab": {
          "base_uri": "https://localhost:8080/",
          "height": 206
        },
        "outputId": "55e6178d-ad23-48e7-80b4-180f31bcdf5b"
      },
      "outputs": [
        {
          "output_type": "display_data",
          "data": {
            "text/plain": [
              "<Figure size 1800x250 with 1 Axes>"
            ],
            "image/png": "[encoded data removed]"
          },
          "metadata": {}
        }
      ],
      "source": [
        "plt.rcParams[\"figure.figsize\"] = [18.00, 2.50]\n",
        "plt.rcParams[\"figure.autolayout\"] = True\n",
        "fig, axs = plt.subplots(1, 1)\n",
        "class_names = ['XGBoost', 'CNN']\n",
        "evaluation_metrics = ['Accuracy', 'Error rate', 'Sensitivity', 'Specificity', 'Precision', 'F1 score']\n",
        "axs.axis('tight')\n",
        "axs.axis('off')\n",
        "table = axs.table(cellText=matrix,\n",
        "                      cellLoc = 'left',\n",
        "                      rowLabels = class_names,\n",
        "                      rowColours= [\"palegreen\"] * 10,\n",
        "                      colLabels=evaluation_metrics,\n",
        "                      colColours= [\"palegreen\"] * 10,\n",
        "                      loc='center')\n",
        "table.auto_set_font_size(False)\n",
        "table.set_fontsize(14)\n",
        "table.scale(1, 4)\n",
        "fig.tight_layout()\n",
        "plt.show()"
      ]
    }
  ],
  "metadata": {
    "accelerator": "TPU",
    "colab": {
      "provenance": [],
      "include_colab_link": true
    },
    "gpuClass": "standard",
    "kernelspec": {
      "display_name": "Python 3",
      "name": "python3"
    },
    "language_info": {
      "name": "python"
    }
  },
  "nbformat": 4,
  "nbformat_minor": 0
}